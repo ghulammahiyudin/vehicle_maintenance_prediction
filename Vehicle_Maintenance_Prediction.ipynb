{
  "nbformat": 4,
  "nbformat_minor": 0,
  "metadata": {
    "colab": {
      "provenance": [],
      "authorship_tag": "ABX9TyM1vQZ7YgsaJu/uNEF3peD1",
      "include_colab_link": true
    },
    "kernelspec": {
      "name": "python3",
      "display_name": "Python 3"
    },
    "language_info": {
      "name": "python"
    }
  },
  "cells": [
    {
      "cell_type": "markdown",
      "metadata": {
        "id": "view-in-github",
        "colab_type": "text"
      },
      "source": [
        "<a href=\"https://colab.research.google.com/github/ghulammahiyudin/vehicle_maintenance_prediction/blob/main/Vehicle_Maintenance_Prediction.ipynb\" target=\"_parent\"><img src=\"https://colab.research.google.com/assets/colab-badge.svg\" alt=\"Open In Colab\"/></a>"
      ]
    },
    {
      "cell_type": "code",
      "execution_count": null,
      "metadata": {
        "colab": {
          "base_uri": "https://localhost:8080/"
        },
        "id": "LHp88ePYP_u4",
        "outputId": "220dbd4a-70ea-4abc-f79b-b2b2fad8d859"
      },
      "outputs": [
        {
          "output_type": "stream",
          "name": "stdout",
          "text": [
            "Requirement already satisfied: imbalanced-learn in /usr/local/lib/python3.11/dist-packages (0.13.0)\n",
            "Requirement already satisfied: pandas in /usr/local/lib/python3.11/dist-packages (2.2.2)\n",
            "Requirement already satisfied: scikit-learn in /usr/local/lib/python3.11/dist-packages (1.6.0)\n",
            "Requirement already satisfied: matplotlib in /usr/local/lib/python3.11/dist-packages (3.10.0)\n",
            "Requirement already satisfied: numpy<3,>=1.24.3 in /usr/local/lib/python3.11/dist-packages (from imbalanced-learn) (1.26.4)\n",
            "Requirement already satisfied: scipy<2,>=1.10.1 in /usr/local/lib/python3.11/dist-packages (from imbalanced-learn) (1.13.1)\n",
            "Requirement already satisfied: sklearn-compat<1,>=0.1 in /usr/local/lib/python3.11/dist-packages (from imbalanced-learn) (0.1.3)\n",
            "Requirement already satisfied: joblib<2,>=1.1.1 in /usr/local/lib/python3.11/dist-packages (from imbalanced-learn) (1.4.2)\n",
            "Requirement already satisfied: threadpoolctl<4,>=2.0.0 in /usr/local/lib/python3.11/dist-packages (from imbalanced-learn) (3.5.0)\n",
            "Requirement already satisfied: python-dateutil>=2.8.2 in /usr/local/lib/python3.11/dist-packages (from pandas) (2.8.2)\n",
            "Requirement already satisfied: pytz>=2020.1 in /usr/local/lib/python3.11/dist-packages (from pandas) (2024.2)\n",
            "Requirement already satisfied: tzdata>=2022.7 in /usr/local/lib/python3.11/dist-packages (from pandas) (2024.2)\n",
            "Requirement already satisfied: contourpy>=1.0.1 in /usr/local/lib/python3.11/dist-packages (from matplotlib) (1.3.1)\n",
            "Requirement already satisfied: cycler>=0.10 in /usr/local/lib/python3.11/dist-packages (from matplotlib) (0.12.1)\n",
            "Requirement already satisfied: fonttools>=4.22.0 in /usr/local/lib/python3.11/dist-packages (from matplotlib) (4.55.3)\n",
            "Requirement already satisfied: kiwisolver>=1.3.1 in /usr/local/lib/python3.11/dist-packages (from matplotlib) (1.4.8)\n",
            "Requirement already satisfied: packaging>=20.0 in /usr/local/lib/python3.11/dist-packages (from matplotlib) (24.2)\n",
            "Requirement already satisfied: pillow>=8 in /usr/local/lib/python3.11/dist-packages (from matplotlib) (11.1.0)\n",
            "Requirement already satisfied: pyparsing>=2.3.1 in /usr/local/lib/python3.11/dist-packages (from matplotlib) (3.2.1)\n",
            "Requirement already satisfied: six>=1.5 in /usr/local/lib/python3.11/dist-packages (from python-dateutil>=2.8.2->pandas) (1.17.0)\n"
          ]
        }
      ],
      "source": [
        "# installing liberies\n",
        "pip install imbalanced-learn pandas scikit-learn matplotlib"
      ]
    },
    {
      "cell_type": "code",
      "source": [
        "# Import necessary libraries\n",
        "import pandas as pd\n",
        "from imblearn.over_sampling import SMOTE\n",
        "from sklearn.preprocessing import LabelEncoder\n",
        "import matplotlib.pyplot as plt"
      ],
      "metadata": {
        "id": "FVdKZ07LQc5x"
      },
      "execution_count": null,
      "outputs": []
    },
    {
      "cell_type": "code",
      "source": [
        "# Step 1: Load your dataset\n",
        "df = pd.read_csv('/content/vehicle_maintenance_data.csv')"
      ],
      "metadata": {
        "id": "cu1AA3wMR5fI"
      },
      "execution_count": null,
      "outputs": []
    },
    {
      "cell_type": "code",
      "source": [
        "# Step 2: Define feature columns and target column\n",
        "feature_columns = [\n",
        "    'Vehicle_Model', 'Mileage', 'Maintenance_History', 'Reported_Issues',\n",
        "    'Vehicle_Age', 'Fuel_Type', 'Transmission_Type', 'Engine_Size',\n",
        "    'Odometer_Reading', 'Last_Service_Date', 'Warranty_Expiry_Date',\n",
        "    'Owner_Type', 'Insurance_Premium', 'Service_History', 'Accident_History',\n",
        "    'Fuel_Efficiency', 'Tire_Condition', 'Brake_Condition', 'Battery_Status'\n",
        "]\n",
        "\n",
        "target_column = 'Need_Maintenance'"
      ],
      "metadata": {
        "id": "6edY71F7SBPm"
      },
      "execution_count": null,
      "outputs": []
    },
    {
      "cell_type": "code",
      "source": [
        "# Step 3: Separate features and target\n",
        "X = df[feature_columns]\n",
        "y = df[target_column]\n"
      ],
      "metadata": {
        "id": "ueIhfZziSEex"
      },
      "execution_count": null,
      "outputs": []
    },
    {
      "cell_type": "code",
      "source": [
        "# Step 4: Handle missing values\n",
        "X_encoded = X.copy()\n",
        "\n",
        "# Fill missing values for numerical columns with median\n",
        "numerical_cols = X_encoded.select_dtypes(include=['float64', 'int64']).columns\n",
        "X_encoded[numerical_cols] = X_encoded[numerical_cols].fillna(X_encoded[numerical_cols].median())\n",
        "\n",
        "# Fill missing values for categorical columns with mode\n",
        "categorical_cols = X_encoded.select_dtypes(include=['object']).columns\n",
        "for col in categorical_cols:\n",
        "    X_encoded[col] = X_encoded[col].fillna(X_encoded[col].mode()[0])"
      ],
      "metadata": {
        "id": "uvYBsagxSKER"
      },
      "execution_count": null,
      "outputs": []
    },
    {
      "cell_type": "code",
      "source": [
        "# Step 5: Encode categorical columns\n",
        "le_mapping = {}  # To store mappings for each column\n",
        "le = LabelEncoder()\n",
        "\n",
        "for col in categorical_cols:\n",
        "    X_encoded[col] = le.fit_transform(X_encoded[col])\n",
        "    le_mapping[col] = dict(zip(le.classes_, le.transform(le.classes_)))  # Save the mappings\n"
      ],
      "metadata": {
        "id": "5pkg0AY2SOCT"
      },
      "execution_count": null,
      "outputs": []
    },
    {
      "cell_type": "code",
      "source": [
        "# Step 6: Visualize class distribution before SMOTE\n",
        "plt.figure(figsize=(8, 6))\n",
        "plt.subplot(1, 2, 1)\n",
        "y.value_counts().plot(kind='bar', color=['lightblue', 'salmon'])\n",
        "plt.title('Class Distribution Before SMOTE')\n",
        "plt.xlabel('Classes')\n",
        "plt.ylabel('Number of Samples')"
      ],
      "metadata": {
        "colab": {
          "base_uri": "https://localhost:8080/",
          "height": 576
        },
        "id": "BSwDRe1ISSaJ",
        "outputId": "b99c8136-0771-45e5-a5cd-2164a24d246d"
      },
      "execution_count": null,
      "outputs": [
        {
          "output_type": "execute_result",
          "data": {
            "text/plain": [
              "Text(0, 0.5, 'Number of Samples')"
            ]
          },
          "metadata": {},
          "execution_count": 9
        },
        {
          "output_type": "display_data",
          "data": {
            "text/plain": [
              "<Figure size 800x600 with 1 Axes>"
            ],
            "image/png": "[encoded data removed]"
          },
          "metadata": {}
        }
      ]
    },
    {
      "cell_type": "code",
      "source": [
        "# Step 7: Apply SMOTE to balance the target variable\n",
        "smote = SMOTE(sampling_strategy='auto', random_state=42)\n",
        "X_resampled, y_resampled = smote.fit_resample(X_encoded, y)"
      ],
      "metadata": {
        "id": "3jAQfuKCSW2f"
      },
      "execution_count": null,
      "outputs": []
    },
    {
      "cell_type": "code",
      "source": [
        "# Step 8: Visualize class distribution after SMOTE\n",
        "plt.subplot(1, 2, 2)\n",
        "y_resampled.value_counts().plot(kind='bar', color=['lightblue', 'salmon'])\n",
        "plt.title('Class Distribution After SMOTE')\n",
        "plt.xlabel('Classes')\n",
        "plt.ylabel('Number of Samples')\n",
        "\n",
        "# Show the plot\n",
        "plt.tight_layout()\n",
        "plt.show()"
      ],
      "metadata": {
        "colab": {
          "base_uri": "https://localhost:8080/",
          "height": 487
        },
        "id": "YE5xklidSbQr",
        "outputId": "73e938ad-a63a-4b5e-9f4e-5a7e58d69887"
      },
      "execution_count": null,
      "outputs": [
        {
          "output_type": "display_data",
          "data": {
            "text/plain": [
              "<Figure size 640x480 with 1 Axes>"
            ],
            "image/png": "[encoded data removed]"
          },
          "metadata": {}
        }
      ]
    },
    {
      "cell_type": "code",
      "source": [
        "# Step 9: Convert numerical columns back to original categories\n",
        "X_resampled_df = pd.DataFrame(X_resampled, columns=X_encoded.columns)\n",
        "\n",
        "for col in categorical_cols:\n",
        "    reverse_mapping = {v: k for k, v in le_mapping[col].items()}  # Reverse the mapping\n",
        "    X_resampled_df[col] = X_resampled_df[col].map(reverse_mapping)\n",
        "\n",
        "# Ensure the number of columns remains the same\n",
        "assert X_resampled_df.shape[1] == X_encoded.shape[1], \"Number of columns mismatch!\""
      ],
      "metadata": {
        "id": "wjErC8sYSdLD"
      },
      "execution_count": null,
      "outputs": []
    },
    {
      "cell_type": "code",
      "source": [
        "# Step 10: Combine the balanced features with the target variable\n",
        "balanced_df = X_resampled_df.copy()\n",
        "balanced_df[target_column] = y_resampled"
      ],
      "metadata": {
        "id": "mh5kfiuzSkND"
      },
      "execution_count": null,
      "outputs": []
    },
    {
      "cell_type": "code",
      "source": [
        "# Step 11: Save the balanced dataset as a CSV file\n",
        "balanced_df.to_csv('balanced_vehicle_maintenance_data_original_format.csv', index=False)\n"
      ],
      "metadata": {
        "id": "V_4mU0LHSpnO"
      },
      "execution_count": null,
      "outputs": []
    },
    {
      "cell_type": "code",
      "source": [
        "# Step 12: Provide an option to download the file\n",
        "try:\n",
        "    from google.colab import files\n",
        "    files.download('balanced_vehicle_maintenance_data_original_format.csv')\n",
        "except ImportError:\n",
        "    print(\"The file 'balanced_vehicle_maintenance_data_original_format.csv' has been saved locally.\")"
      ],
      "metadata": {
        "colab": {
          "base_uri": "https://localhost:8080/",
          "height": 17
        },
        "id": "djauVSuUSvpK",
        "outputId": "62bc311d-bcf5-4977-f5cc-1d55111c7632"
      },
      "execution_count": null,
      "outputs": [
        {
          "output_type": "display_data",
          "data": {
            "text/plain": [
              "<IPython.core.display.Javascript object>"
            ],
            "application/javascript": [
              "\n",
              "    async function download(id, filename, size) {\n",
              "      if (!google.colab.kernel.accessAllowed) {\n",
              "        return;\n",
              "      }\n",
              "      const div = document.createElement('div');\n",
              "      const label = document.createElement('label');\n",
              "      label.textContent = `Downloading \"${filename}\": `;\n",
              "      div.appendChild(label);\n",
              "      const progress = document.createElement('progress');\n",
              "      progress.max = size;\n",
              "      div.appendChild(progress);\n",
              "      document.body.appendChild(div);\n",
              "\n",
              "      const buffers = [];\n",
              "      let downloaded = 0;\n",
              "\n",
              "      const channel = await google.colab.kernel.comms.open(id);\n",
              "      // Send a message to notify the kernel that we're ready.\n",
              "      channel.send({})\n",
              "\n",
              "      for await (const message of channel.messages) {\n",
              "        // Send a message to notify the kernel that we're ready.\n",
              "        channel.send({})\n",
              "        if (message.buffers) {\n",
              "          for (const buffer of message.buffers) {\n",
              "            buffers.push(buffer);\n",
              "            downloaded += buffer.byteLength;\n",
              "            progress.value = downloaded;\n",
              "          }\n",
              "        }\n",
              "      }\n",
              "      const blob = new Blob(buffers, {type: 'application/binary'});\n",
              "      const a = document.createElement('a');\n",
              "      a.href = window.URL.createObjectURL(blob);\n",
              "      a.download = filename;\n",
              "      div.appendChild(a);\n",
              "      a.click();\n",
              "      div.remove();\n",
              "    }\n",
              "  "
            ]
          },
          "metadata": {}
        },
        {
          "output_type": "display_data",
          "data": {
            "text/plain": [
              "<IPython.core.display.Javascript object>"
            ],
            "application/javascript": [
              "download(\"download_25dd7b8c-8c1a-4a5c-876c-63d407f27b60\", \"balanced_vehicle_maintenance_data_original_format.csv\", 10067747)"
            ]
          },
          "metadata": {}
        }
      ]
    }
  ]
}